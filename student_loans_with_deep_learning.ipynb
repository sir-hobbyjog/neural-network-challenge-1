{
  "cells": [
    {
      "cell_type": "markdown",
      "metadata": {
        "id": "T7ZNhGcW6q6r"
      },
      "source": [
        "# Student Loan Risk with Deep Learning"
      ]
    },
    {
      "cell_type": "code",
      "execution_count": 1,
      "metadata": {
        "id": "0otrXpJc6q6u"
      },
      "outputs": [],
      "source": [
        "# Imports\n",
        "import pandas as pd\n",
        "import tensorflow as tf\n",
        "from tensorflow.keras.layers import Dense\n",
        "from tensorflow.keras.models import Sequential\n",
        "from sklearn.model_selection import train_test_split\n",
        "from sklearn.preprocessing import StandardScaler\n",
        "from sklearn.metrics import classification_report\n",
        "from pathlib import Path"
      ]
    },
    {
      "cell_type": "markdown",
      "metadata": {
        "id": "OpV4Y-3Z6q6w"
      },
      "source": [
        "---\n",
        "\n",
        "## Prepare the data to be used on a neural network model"
      ]
    },
    {
      "cell_type": "markdown",
      "metadata": {
        "id": "TUuSzp2l6q6w"
      },
      "source": [
        "### Step 1: Read the `student-loans.csv` file into a Pandas DataFrame. Review the DataFrame, looking for columns that could eventually define your features and target variables.   "
      ]
    },
    {
      "cell_type": "code",
      "execution_count": 2,
      "metadata": {
        "colab": {
          "base_uri": "https://localhost:8080/",
          "height": 226
        },
        "id": "G65km1KD6q6x",
        "outputId": "93d12d8d-c415-4017-8452-5b4966e4dde5"
      },
      "outputs": [
        {
          "data": {
            "text/html": [
              "<div>\n",
              "<style scoped>\n",
              "    .dataframe tbody tr th:only-of-type {\n",
              "        vertical-align: middle;\n",
              "    }\n",
              "\n",
              "    .dataframe tbody tr th {\n",
              "        vertical-align: top;\n",
              "    }\n",
              "\n",
              "    .dataframe thead th {\n",
              "        text-align: right;\n",
              "    }\n",
              "</style>\n",
              "<table border=\"1\" class=\"dataframe\">\n",
              "  <thead>\n",
              "    <tr style=\"text-align: right;\">\n",
              "      <th></th>\n",
              "      <th>payment_history</th>\n",
              "      <th>location_parameter</th>\n",
              "      <th>stem_degree_score</th>\n",
              "      <th>gpa_ranking</th>\n",
              "      <th>alumni_success</th>\n",
              "      <th>study_major_code</th>\n",
              "      <th>time_to_completion</th>\n",
              "      <th>finance_workshop_score</th>\n",
              "      <th>cohort_ranking</th>\n",
              "      <th>total_loan_score</th>\n",
              "      <th>financial_aid_score</th>\n",
              "      <th>credit_ranking</th>\n",
              "    </tr>\n",
              "  </thead>\n",
              "  <tbody>\n",
              "    <tr>\n",
              "      <th>0</th>\n",
              "      <td>7.4</td>\n",
              "      <td>0.70</td>\n",
              "      <td>0.00</td>\n",
              "      <td>1.9</td>\n",
              "      <td>0.076</td>\n",
              "      <td>11.0</td>\n",
              "      <td>34.0</td>\n",
              "      <td>0.9978</td>\n",
              "      <td>3.51</td>\n",
              "      <td>0.56</td>\n",
              "      <td>9.4</td>\n",
              "      <td>0</td>\n",
              "    </tr>\n",
              "    <tr>\n",
              "      <th>1</th>\n",
              "      <td>7.8</td>\n",
              "      <td>0.88</td>\n",
              "      <td>0.00</td>\n",
              "      <td>2.6</td>\n",
              "      <td>0.098</td>\n",
              "      <td>25.0</td>\n",
              "      <td>67.0</td>\n",
              "      <td>0.9968</td>\n",
              "      <td>3.20</td>\n",
              "      <td>0.68</td>\n",
              "      <td>9.8</td>\n",
              "      <td>0</td>\n",
              "    </tr>\n",
              "    <tr>\n",
              "      <th>2</th>\n",
              "      <td>7.8</td>\n",
              "      <td>0.76</td>\n",
              "      <td>0.04</td>\n",
              "      <td>2.3</td>\n",
              "      <td>0.092</td>\n",
              "      <td>15.0</td>\n",
              "      <td>54.0</td>\n",
              "      <td>0.9970</td>\n",
              "      <td>3.26</td>\n",
              "      <td>0.65</td>\n",
              "      <td>9.8</td>\n",
              "      <td>0</td>\n",
              "    </tr>\n",
              "    <tr>\n",
              "      <th>3</th>\n",
              "      <td>11.2</td>\n",
              "      <td>0.28</td>\n",
              "      <td>0.56</td>\n",
              "      <td>1.9</td>\n",
              "      <td>0.075</td>\n",
              "      <td>17.0</td>\n",
              "      <td>60.0</td>\n",
              "      <td>0.9980</td>\n",
              "      <td>3.16</td>\n",
              "      <td>0.58</td>\n",
              "      <td>9.8</td>\n",
              "      <td>1</td>\n",
              "    </tr>\n",
              "    <tr>\n",
              "      <th>4</th>\n",
              "      <td>7.4</td>\n",
              "      <td>0.70</td>\n",
              "      <td>0.00</td>\n",
              "      <td>1.9</td>\n",
              "      <td>0.076</td>\n",
              "      <td>11.0</td>\n",
              "      <td>34.0</td>\n",
              "      <td>0.9978</td>\n",
              "      <td>3.51</td>\n",
              "      <td>0.56</td>\n",
              "      <td>9.4</td>\n",
              "      <td>0</td>\n",
              "    </tr>\n",
              "  </tbody>\n",
              "</table>\n",
              "</div>"
            ],
            "text/plain": [
              "   payment_history  location_parameter  stem_degree_score  gpa_ranking  \\\n",
              "0              7.4                0.70               0.00          1.9   \n",
              "1              7.8                0.88               0.00          2.6   \n",
              "2              7.8                0.76               0.04          2.3   \n",
              "3             11.2                0.28               0.56          1.9   \n",
              "4              7.4                0.70               0.00          1.9   \n",
              "\n",
              "   alumni_success  study_major_code  time_to_completion  \\\n",
              "0           0.076              11.0                34.0   \n",
              "1           0.098              25.0                67.0   \n",
              "2           0.092              15.0                54.0   \n",
              "3           0.075              17.0                60.0   \n",
              "4           0.076              11.0                34.0   \n",
              "\n",
              "   finance_workshop_score  cohort_ranking  total_loan_score  \\\n",
              "0                  0.9978            3.51              0.56   \n",
              "1                  0.9968            3.20              0.68   \n",
              "2                  0.9970            3.26              0.65   \n",
              "3                  0.9980            3.16              0.58   \n",
              "4                  0.9978            3.51              0.56   \n",
              "\n",
              "   financial_aid_score  credit_ranking  \n",
              "0                  9.4               0  \n",
              "1                  9.8               0  \n",
              "2                  9.8               0  \n",
              "3                  9.8               1  \n",
              "4                  9.4               0  "
            ]
          },
          "execution_count": 2,
          "metadata": {},
          "output_type": "execute_result"
        }
      ],
      "source": [
        "# Read the csv into a Pandas DataFrame\n",
        "file_path = \"https://static.bc-edx.com/ai/ail-v-1-0/m18/lms/datasets/student-loans.csv\"\n",
        "loans_df = pd.read_csv(file_path)\n",
        "\n",
        "# Review the DataFrame\n",
        "loans_df.head()"
      ]
    },
    {
      "cell_type": "code",
      "execution_count": 3,
      "metadata": {
        "colab": {
          "base_uri": "https://localhost:8080/"
        },
        "id": "K8ZYB8wx6q6x",
        "outputId": "b509fc34-4488-406e-e451-2069fec37371"
      },
      "outputs": [
        {
          "data": {
            "text/plain": [
              "payment_history           float64\n",
              "location_parameter        float64\n",
              "stem_degree_score         float64\n",
              "gpa_ranking               float64\n",
              "alumni_success            float64\n",
              "study_major_code          float64\n",
              "time_to_completion        float64\n",
              "finance_workshop_score    float64\n",
              "cohort_ranking            float64\n",
              "total_loan_score          float64\n",
              "financial_aid_score       float64\n",
              "credit_ranking              int64\n",
              "dtype: object"
            ]
          },
          "execution_count": 3,
          "metadata": {},
          "output_type": "execute_result"
        }
      ],
      "source": [
        "# Review the data types associated with the columns\n",
        "loans_df.dtypes"
      ]
    },
    {
      "cell_type": "code",
      "execution_count": 4,
      "metadata": {
        "colab": {
          "base_uri": "https://localhost:8080/"
        },
        "id": "9P8aX-dW75JO",
        "outputId": "63251fa8-5ac1-4112-c2f7-bc5d97ea8491"
      },
      "outputs": [
        {
          "data": {
            "text/plain": [
              "credit_ranking\n",
              "1    855\n",
              "0    744\n",
              "Name: count, dtype: int64"
            ]
          },
          "execution_count": 4,
          "metadata": {},
          "output_type": "execute_result"
        }
      ],
      "source": [
        "# Check the credit_ranking value counts\n",
        "loans_df[\"credit_ranking\"].value_counts()"
      ]
    },
    {
      "cell_type": "markdown",
      "metadata": {
        "id": "R6vbZeDH6q6y"
      },
      "source": [
        "### Step 2: Using the preprocessed data, create the features (`X`) and target (`y`) datasets. The target dataset should be defined by the preprocessed DataFrame column “credit_ranking”. The remaining columns should define the features dataset."
      ]
    },
    {
      "cell_type": "code",
      "execution_count": 5,
      "metadata": {
        "colab": {
          "base_uri": "https://localhost:8080/"
        },
        "id": "Q5eVAP5M6q6y",
        "outputId": "89728bbf-6930-4573-a126-9f1b66ed8859"
      },
      "outputs": [
        {
          "data": {
            "text/plain": [
              "0    0\n",
              "1    0\n",
              "2    0\n",
              "3    1\n",
              "4    0\n",
              "Name: credit_ranking, dtype: int64"
            ]
          },
          "execution_count": 5,
          "metadata": {},
          "output_type": "execute_result"
        }
      ],
      "source": [
        "# Define the target set y using the credit_ranking column\n",
        "y = loans_df[\"credit_ranking\"]\n",
        "\n",
        "# Display a sample of y\n",
        "y[:5]"
      ]
    },
    {
      "cell_type": "code",
      "execution_count": 6,
      "metadata": {
        "colab": {
          "base_uri": "https://localhost:8080/",
          "height": 226
        },
        "id": "IIkrD2Sn6q6z",
        "outputId": "ce07c4a3-fb81-4657-d11e-ec85ae8554c9"
      },
      "outputs": [
        {
          "data": {
            "text/html": [
              "<div>\n",
              "<style scoped>\n",
              "    .dataframe tbody tr th:only-of-type {\n",
              "        vertical-align: middle;\n",
              "    }\n",
              "\n",
              "    .dataframe tbody tr th {\n",
              "        vertical-align: top;\n",
              "    }\n",
              "\n",
              "    .dataframe thead th {\n",
              "        text-align: right;\n",
              "    }\n",
              "</style>\n",
              "<table border=\"1\" class=\"dataframe\">\n",
              "  <thead>\n",
              "    <tr style=\"text-align: right;\">\n",
              "      <th></th>\n",
              "      <th>payment_history</th>\n",
              "      <th>location_parameter</th>\n",
              "      <th>stem_degree_score</th>\n",
              "      <th>gpa_ranking</th>\n",
              "      <th>alumni_success</th>\n",
              "      <th>study_major_code</th>\n",
              "      <th>time_to_completion</th>\n",
              "      <th>finance_workshop_score</th>\n",
              "      <th>cohort_ranking</th>\n",
              "      <th>total_loan_score</th>\n",
              "      <th>financial_aid_score</th>\n",
              "    </tr>\n",
              "  </thead>\n",
              "  <tbody>\n",
              "    <tr>\n",
              "      <th>0</th>\n",
              "      <td>7.4</td>\n",
              "      <td>0.70</td>\n",
              "      <td>0.00</td>\n",
              "      <td>1.9</td>\n",
              "      <td>0.076</td>\n",
              "      <td>11.0</td>\n",
              "      <td>34.0</td>\n",
              "      <td>0.9978</td>\n",
              "      <td>3.51</td>\n",
              "      <td>0.56</td>\n",
              "      <td>9.4</td>\n",
              "    </tr>\n",
              "    <tr>\n",
              "      <th>1</th>\n",
              "      <td>7.8</td>\n",
              "      <td>0.88</td>\n",
              "      <td>0.00</td>\n",
              "      <td>2.6</td>\n",
              "      <td>0.098</td>\n",
              "      <td>25.0</td>\n",
              "      <td>67.0</td>\n",
              "      <td>0.9968</td>\n",
              "      <td>3.20</td>\n",
              "      <td>0.68</td>\n",
              "      <td>9.8</td>\n",
              "    </tr>\n",
              "    <tr>\n",
              "      <th>2</th>\n",
              "      <td>7.8</td>\n",
              "      <td>0.76</td>\n",
              "      <td>0.04</td>\n",
              "      <td>2.3</td>\n",
              "      <td>0.092</td>\n",
              "      <td>15.0</td>\n",
              "      <td>54.0</td>\n",
              "      <td>0.9970</td>\n",
              "      <td>3.26</td>\n",
              "      <td>0.65</td>\n",
              "      <td>9.8</td>\n",
              "    </tr>\n",
              "    <tr>\n",
              "      <th>3</th>\n",
              "      <td>11.2</td>\n",
              "      <td>0.28</td>\n",
              "      <td>0.56</td>\n",
              "      <td>1.9</td>\n",
              "      <td>0.075</td>\n",
              "      <td>17.0</td>\n",
              "      <td>60.0</td>\n",
              "      <td>0.9980</td>\n",
              "      <td>3.16</td>\n",
              "      <td>0.58</td>\n",
              "      <td>9.8</td>\n",
              "    </tr>\n",
              "    <tr>\n",
              "      <th>4</th>\n",
              "      <td>7.4</td>\n",
              "      <td>0.70</td>\n",
              "      <td>0.00</td>\n",
              "      <td>1.9</td>\n",
              "      <td>0.076</td>\n",
              "      <td>11.0</td>\n",
              "      <td>34.0</td>\n",
              "      <td>0.9978</td>\n",
              "      <td>3.51</td>\n",
              "      <td>0.56</td>\n",
              "      <td>9.4</td>\n",
              "    </tr>\n",
              "  </tbody>\n",
              "</table>\n",
              "</div>"
            ],
            "text/plain": [
              "   payment_history  location_parameter  stem_degree_score  gpa_ranking  \\\n",
              "0              7.4                0.70               0.00          1.9   \n",
              "1              7.8                0.88               0.00          2.6   \n",
              "2              7.8                0.76               0.04          2.3   \n",
              "3             11.2                0.28               0.56          1.9   \n",
              "4              7.4                0.70               0.00          1.9   \n",
              "\n",
              "   alumni_success  study_major_code  time_to_completion  \\\n",
              "0           0.076              11.0                34.0   \n",
              "1           0.098              25.0                67.0   \n",
              "2           0.092              15.0                54.0   \n",
              "3           0.075              17.0                60.0   \n",
              "4           0.076              11.0                34.0   \n",
              "\n",
              "   finance_workshop_score  cohort_ranking  total_loan_score  \\\n",
              "0                  0.9978            3.51              0.56   \n",
              "1                  0.9968            3.20              0.68   \n",
              "2                  0.9970            3.26              0.65   \n",
              "3                  0.9980            3.16              0.58   \n",
              "4                  0.9978            3.51              0.56   \n",
              "\n",
              "   financial_aid_score  \n",
              "0                  9.4  \n",
              "1                  9.8  \n",
              "2                  9.8  \n",
              "3                  9.8  \n",
              "4                  9.4  "
            ]
          },
          "execution_count": 6,
          "metadata": {},
          "output_type": "execute_result"
        }
      ],
      "source": [
        "# Define features set X by selecting all columns but credit_ranking\n",
        "X = loans_df.copy()\n",
        "X.drop(\"credit_ranking\", axis=1, inplace=True)\n",
        "\n",
        "# Review the features DataFrame\n",
        "X.head()\n"
      ]
    },
    {
      "cell_type": "markdown",
      "metadata": {
        "id": "QmM9c-tj6q6z"
      },
      "source": [
        "### Step 3: Split the features and target sets into training and testing datasets.\n"
      ]
    },
    {
      "cell_type": "code",
      "execution_count": 7,
      "metadata": {
        "id": "OD7xwU_96q6z"
      },
      "outputs": [],
      "source": [
        "# Split the preprocessed data into a training and testing dataset & Assign the function a random_state equal to 1\n",
        "X_train, X_test, y_train, y_test = train_test_split(X, y, random_state=1)"
      ]
    },
    {
      "cell_type": "markdown",
      "metadata": {
        "id": "G9i6DHY06q6z"
      },
      "source": [
        "### Step 4: Use scikit-learn's `StandardScaler` to scale the features data."
      ]
    },
    {
      "cell_type": "code",
      "execution_count": 8,
      "metadata": {
        "id": "BzD3z20m6q6z"
      },
      "outputs": [],
      "source": [
        "# Create a StandardScaler instance\n",
        "scaler = StandardScaler()\n",
        "\n",
        "# Fit the scaler to the features training dataset\n",
        "X_scaler = scaler.fit(X_train)\n",
        "\n",
        "# Fit the scaler to the features training dataset\n",
        "X_train_scaled = X_scaler.transform(X_train)"
      ]
    },
    {
      "cell_type": "markdown",
      "metadata": {
        "id": "CZzVDjba6q6z"
      },
      "source": [
        "---\n",
        "\n",
        "## Compile and Evaluate a Model Using a Neural Network"
      ]
    },
    {
      "cell_type": "markdown",
      "metadata": {
        "id": "m-pSux4Q6q60"
      },
      "source": [
        "### Step 1: Create a deep neural network by assigning the number of input features, the number of layers, and the number of neurons on each layer using Tensorflow’s Keras.\n",
        "\n",
        "> **Hint** You can start with a two-layer deep neural network model that uses the `relu` activation function for both layers.\n"
      ]
    },
    {
      "cell_type": "code",
      "execution_count": 9,
      "metadata": {
        "colab": {
          "base_uri": "https://localhost:8080/"
        },
        "id": "t5C94FCd6q60",
        "outputId": "cbf05783-2f56-4745-cd33-649a6152e510"
      },
      "outputs": [
        {
          "data": {
            "text/plain": [
              "11"
            ]
          },
          "execution_count": 9,
          "metadata": {},
          "output_type": "execute_result"
        }
      ],
      "source": [
        "# Define the the number of inputs (features) to the model\n",
        "number_input_features = len(X_train.iloc[0])\n",
        "\n",
        "# Review the number of features\n",
        "number_input_features\n"
      ]
    },
    {
      "cell_type": "code",
      "execution_count": 56,
      "metadata": {
        "id": "c_KXDLkF6q60"
      },
      "outputs": [],
      "source": [
        "# Define the number of hidden nodes for the first hidden layer\n",
        "first_hidden_nodes = 6\n",
        "\n",
        "# Define the number of hidden nodes for the second hidden layer\n",
        "second_hidden_nodes = 3\n",
        "\n",
        "# Define the number of neurons in the output layer\n",
        "number_output_neurons = 1"
      ]
    },
    {
      "cell_type": "code",
      "execution_count": 57,
      "metadata": {
        "id": "63UdFncw6q60"
      },
      "outputs": [],
      "source": [
        "# Create the Sequential model instance\n",
        "nn = Sequential()\n",
        "\n",
        "# Add the first hidden layer\n",
        "nn.add(Dense(units=first_hidden_nodes, input_dim=number_input_features, activation=\"relu\"))\n",
        "\n",
        "# Add the second hidden layer\n",
        "nn.add(Dense(units=second_hidden_nodes, activation=\"relu\"))\n",
        "\n",
        "# Add the output layer to the model specifying the number of output neurons and activation function\n",
        "nn.add(Dense(units=number_output_neurons, activation=\"sigmoid\"))"
      ]
    },
    {
      "cell_type": "code",
      "execution_count": 58,
      "metadata": {
        "colab": {
          "base_uri": "https://localhost:8080/"
        },
        "id": "-Beoh4f_6q61",
        "outputId": "2e50f810-086b-4d89-bf7d-98afbe0d649d"
      },
      "outputs": [
        {
          "name": "stdout",
          "output_type": "stream",
          "text": [
            "Model: \"sequential_3\"\n",
            "_________________________________________________________________\n",
            " Layer (type)                Output Shape              Param #   \n",
            "=================================================================\n",
            " dense_9 (Dense)             (None, 6)                 72        \n",
            "                                                                 \n",
            " dense_10 (Dense)            (None, 3)                 21        \n",
            "                                                                 \n",
            " dense_11 (Dense)            (None, 1)                 4         \n",
            "                                                                 \n",
            "=================================================================\n",
            "Total params: 97 (388.00 Byte)\n",
            "Trainable params: 97 (388.00 Byte)\n",
            "Non-trainable params: 0 (0.00 Byte)\n",
            "_________________________________________________________________\n"
          ]
        }
      ],
      "source": [
        "# Display the Sequential model summary\n",
        "nn.summary()"
      ]
    },
    {
      "cell_type": "markdown",
      "metadata": {
        "id": "nRqWGIRo6q61"
      },
      "source": [
        "### Step 2: Compile and fit the model using the `binary_crossentropy` loss function, the `adam` optimizer, and the `accuracy` evaluation metric.\n"
      ]
    },
    {
      "cell_type": "code",
      "execution_count": 59,
      "metadata": {
        "id": "E-hZaeSn6q61"
      },
      "outputs": [],
      "source": [
        "# Compile the Sequential model\n",
        "nn.compile(loss=\"binary_crossentropy\", optimizer=\"adam\", metrics=[\"accuracy\"])\n"
      ]
    },
    {
      "cell_type": "code",
      "execution_count": 60,
      "metadata": {
        "colab": {
          "base_uri": "https://localhost:8080/"
        },
        "id": "x25e8Idc6q61",
        "outputId": "e95946ba-23da-47a3-a1c1-5e9a2a484a47"
      },
      "outputs": [
        {
          "name": "stdout",
          "output_type": "stream",
          "text": [
            "Epoch 1/50\n"
          ]
        },
        {
          "name": "stdout",
          "output_type": "stream",
          "text": [
            "38/38 [==============================] - 0s 521us/step - loss: 0.7007 - accuracy: 0.5146\n",
            "Epoch 2/50\n",
            "38/38 [==============================] - 0s 427us/step - loss: 0.6776 - accuracy: 0.5855\n",
            "Epoch 3/50\n",
            "38/38 [==============================] - 0s 390us/step - loss: 0.6639 - accuracy: 0.6038\n",
            "Epoch 4/50\n",
            "38/38 [==============================] - 0s 390us/step - loss: 0.6488 - accuracy: 0.6214\n",
            "Epoch 5/50\n",
            "38/38 [==============================] - 0s 382us/step - loss: 0.6328 - accuracy: 0.6314\n",
            "Epoch 6/50\n",
            "38/38 [==============================] - 0s 376us/step - loss: 0.6158 - accuracy: 0.6522\n",
            "Epoch 7/50\n",
            "38/38 [==============================] - 0s 385us/step - loss: 0.6007 - accuracy: 0.6606\n",
            "Epoch 8/50\n",
            "38/38 [==============================] - 0s 402us/step - loss: 0.5865 - accuracy: 0.6706\n",
            "Epoch 9/50\n",
            "38/38 [==============================] - 0s 383us/step - loss: 0.5749 - accuracy: 0.6764\n",
            "Epoch 10/50\n",
            "38/38 [==============================] - 0s 397us/step - loss: 0.5649 - accuracy: 0.7048\n",
            "Epoch 11/50\n",
            "38/38 [==============================] - 0s 366us/step - loss: 0.5575 - accuracy: 0.7248\n",
            "Epoch 12/50\n",
            "38/38 [==============================] - 0s 489us/step - loss: 0.5514 - accuracy: 0.7281\n",
            "Epoch 13/50\n",
            "38/38 [==============================] - 0s 358us/step - loss: 0.5461 - accuracy: 0.7356\n",
            "Epoch 14/50\n",
            "38/38 [==============================] - 0s 357us/step - loss: 0.5413 - accuracy: 0.7364\n",
            "Epoch 15/50\n",
            "38/38 [==============================] - 0s 358us/step - loss: 0.5374 - accuracy: 0.7356\n",
            "Epoch 16/50\n",
            "38/38 [==============================] - 0s 357us/step - loss: 0.5340 - accuracy: 0.7415\n",
            "Epoch 17/50\n",
            "38/38 [==============================] - 0s 358us/step - loss: 0.5312 - accuracy: 0.7448\n",
            "Epoch 18/50\n",
            "38/38 [==============================] - 0s 357us/step - loss: 0.5284 - accuracy: 0.7415\n",
            "Epoch 19/50\n",
            "38/38 [==============================] - 0s 368us/step - loss: 0.5261 - accuracy: 0.7473\n",
            "Epoch 20/50\n",
            "38/38 [==============================] - 0s 354us/step - loss: 0.5240 - accuracy: 0.7456\n",
            "Epoch 21/50\n",
            "38/38 [==============================] - 0s 360us/step - loss: 0.5225 - accuracy: 0.7456\n",
            "Epoch 22/50\n",
            "38/38 [==============================] - 0s 353us/step - loss: 0.5208 - accuracy: 0.7473\n",
            "Epoch 23/50\n",
            "38/38 [==============================] - 0s 362us/step - loss: 0.5196 - accuracy: 0.7473\n",
            "Epoch 24/50\n",
            "38/38 [==============================] - 0s 354us/step - loss: 0.5180 - accuracy: 0.7465\n",
            "Epoch 25/50\n",
            "38/38 [==============================] - 0s 362us/step - loss: 0.5164 - accuracy: 0.7473\n",
            "Epoch 26/50\n",
            "38/38 [==============================] - 0s 358us/step - loss: 0.5148 - accuracy: 0.7481\n",
            "Epoch 27/50\n",
            "38/38 [==============================] - 0s 358us/step - loss: 0.5137 - accuracy: 0.7490\n",
            "Epoch 28/50\n",
            "38/38 [==============================] - 0s 473us/step - loss: 0.5126 - accuracy: 0.7481\n",
            "Epoch 29/50\n",
            "38/38 [==============================] - 0s 804us/step - loss: 0.5115 - accuracy: 0.7465\n",
            "Epoch 30/50\n",
            "38/38 [==============================] - 0s 368us/step - loss: 0.5107 - accuracy: 0.7481\n",
            "Epoch 31/50\n",
            "38/38 [==============================] - 0s 356us/step - loss: 0.5101 - accuracy: 0.7506\n",
            "Epoch 32/50\n",
            "38/38 [==============================] - 0s 353us/step - loss: 0.5085 - accuracy: 0.7490\n",
            "Epoch 33/50\n",
            "38/38 [==============================] - 0s 357us/step - loss: 0.5083 - accuracy: 0.7490\n",
            "Epoch 34/50\n",
            "38/38 [==============================] - 0s 355us/step - loss: 0.5071 - accuracy: 0.7531\n",
            "Epoch 35/50\n",
            "38/38 [==============================] - 0s 364us/step - loss: 0.5062 - accuracy: 0.7506\n",
            "Epoch 36/50\n",
            "38/38 [==============================] - 0s 360us/step - loss: 0.5054 - accuracy: 0.7498\n",
            "Epoch 37/50\n",
            "38/38 [==============================] - 0s 361us/step - loss: 0.5051 - accuracy: 0.7515\n",
            "Epoch 38/50\n",
            "38/38 [==============================] - 0s 361us/step - loss: 0.5042 - accuracy: 0.7490\n",
            "Epoch 39/50\n",
            "38/38 [==============================] - 0s 354us/step - loss: 0.5038 - accuracy: 0.7498\n",
            "Epoch 40/50\n",
            "38/38 [==============================] - 0s 358us/step - loss: 0.5034 - accuracy: 0.7498\n",
            "Epoch 41/50\n",
            "38/38 [==============================] - 0s 358us/step - loss: 0.5019 - accuracy: 0.7540\n",
            "Epoch 42/50\n",
            "38/38 [==============================] - 0s 356us/step - loss: 0.5017 - accuracy: 0.7573\n",
            "Epoch 43/50\n",
            "38/38 [==============================] - 0s 357us/step - loss: 0.5011 - accuracy: 0.7540\n",
            "Epoch 44/50\n",
            "38/38 [==============================] - 0s 354us/step - loss: 0.5002 - accuracy: 0.7548\n",
            "Epoch 45/50\n",
            "38/38 [==============================] - 0s 363us/step - loss: 0.4997 - accuracy: 0.7531\n",
            "Epoch 46/50\n",
            "38/38 [==============================] - 0s 359us/step - loss: 0.4994 - accuracy: 0.7548\n",
            "Epoch 47/50\n",
            "38/38 [==============================] - 0s 358us/step - loss: 0.4982 - accuracy: 0.7548\n",
            "Epoch 48/50\n",
            "38/38 [==============================] - 0s 357us/step - loss: 0.4980 - accuracy: 0.7523\n",
            "Epoch 49/50\n",
            "38/38 [==============================] - 0s 360us/step - loss: 0.4973 - accuracy: 0.7548\n",
            "Epoch 50/50\n",
            "38/38 [==============================] - 0s 358us/step - loss: 0.4967 - accuracy: 0.7540\n"
          ]
        }
      ],
      "source": [
        "# Fit the model using 50 epochs and the training data\n",
        "model_1 = nn.fit(X_train_scaled, y_train, epochs=50)"
      ]
    },
    {
      "cell_type": "markdown",
      "metadata": {
        "id": "RfHMPZVI6q61"
      },
      "source": [
        "### Step 3: Evaluate the model using the test data to determine the model’s loss and accuracy.\n"
      ]
    },
    {
      "cell_type": "code",
      "execution_count": 61,
      "metadata": {},
      "outputs": [],
      "source": [
        "#scale the x_test\n",
        "X_test_scaled = X_scaler.transform(X_test)"
      ]
    },
    {
      "cell_type": "code",
      "execution_count": 62,
      "metadata": {
        "colab": {
          "base_uri": "https://localhost:8080/"
        },
        "id": "5hfVADKo6q61",
        "outputId": "7df473ad-3301-4b49-e5c3-16e1687cc1cf"
      },
      "outputs": [
        {
          "name": "stdout",
          "output_type": "stream",
          "text": [
            "13/13 - 0s - loss: 1.8568 - accuracy: 0.6200 - 59ms/epoch - 5ms/step\n",
            "Loss: 1.856788992881775, Accuracy: 0.6200000047683716\n"
          ]
        }
      ],
      "source": [
        "# Evaluate the model loss and accuracy metrics using the evaluate method and the test data\n",
        "model_loss, model_accuracy = nn.evaluate(X_test, y_test, verbose=2)\n",
        "\n",
        "# Display the model loss and accuracy results\n",
        "print(f\"Loss: {model_loss}, Accuracy: {model_accuracy}\")"
      ]
    },
    {
      "cell_type": "markdown",
      "metadata": {
        "id": "jpAv0rXA6q61"
      },
      "source": [
        "### Step 4: Save and export your model to a keras file, and name the file `student_loans.keras`.\n"
      ]
    },
    {
      "cell_type": "code",
      "execution_count": 63,
      "metadata": {
        "id": "q0MetN0W6q61"
      },
      "outputs": [],
      "source": [
        "# Set the model's file path\n",
        "file_path = Path(\"student_loan_model.keras\")\n",
        "\n",
        "# Export your model to a keras file\n",
        "nn.save(file_path)"
      ]
    },
    {
      "cell_type": "markdown",
      "metadata": {
        "id": "R1opCDdN6q61"
      },
      "source": [
        "---\n",
        "## Predict Loan Repayment Success by Using your Neural Network Model"
      ]
    },
    {
      "cell_type": "markdown",
      "metadata": {
        "id": "TfIfpeiy6q61"
      },
      "source": [
        "### Step 1: Reload your saved model."
      ]
    },
    {
      "cell_type": "code",
      "execution_count": 64,
      "metadata": {
        "id": "OCET2mvW6q61"
      },
      "outputs": [],
      "source": [
        "# Set the model's file path\n",
        "file_path = Path(\"student_loan_model.keras\")\n",
        "\n",
        "# Load the model to a new object\n",
        "nn_imported = tf.keras.models.load_model(file_path)"
      ]
    },
    {
      "cell_type": "markdown",
      "metadata": {
        "id": "rTPKooGw6q61"
      },
      "source": [
        "### Step 2: Make predictions on the testing data and save the predictions to a DataFrame."
      ]
    },
    {
      "cell_type": "code",
      "execution_count": 65,
      "metadata": {
        "colab": {
          "base_uri": "https://localhost:8080/"
        },
        "id": "Vet7qjgx6q62",
        "outputId": "0925af42-7e12-4978-8396-2a2c1580e1eb"
      },
      "outputs": [
        {
          "name": "stdout",
          "output_type": "stream",
          "text": [
            "13/13 [==============================] - 0s 352us/step\n"
          ]
        },
        {
          "data": {
            "text/plain": [
              "array([0.8862322 , 0.30844826, 0.9999775 , 0.9256492 , 0.99996084],\n",
              "      dtype=float32)"
            ]
          },
          "execution_count": 65,
          "metadata": {},
          "output_type": "execute_result"
        }
      ],
      "source": [
        "# Make predictions with the test data\n",
        "y_pred = nn_imported.predict(X_test).ravel()\n",
        "\n",
        "# Display a sample of the predictions\n",
        "y_pred[:5]"
      ]
    },
    {
      "cell_type": "code",
      "execution_count": 66,
      "metadata": {},
      "outputs": [
        {
          "name": "stdout",
          "output_type": "stream",
          "text": [
            "(400,)\n"
          ]
        }
      ],
      "source": [
        "print(y_pred.shape)\n"
      ]
    },
    {
      "cell_type": "code",
      "execution_count": null,
      "metadata": {},
      "outputs": [],
      "source": []
    },
    {
      "cell_type": "code",
      "execution_count": 67,
      "metadata": {
        "colab": {
          "base_uri": "https://localhost:8080/",
          "height": 424
        },
        "id": "87o8exFPhjfl",
        "outputId": "da5339c5-cea7-43e4-ec22-e168ea16dfa2"
      },
      "outputs": [
        {
          "name": "stdout",
          "output_type": "stream",
          "text": [
            " 1/13 [=>............................] - ETA: 0s"
          ]
        },
        {
          "name": "stdout",
          "output_type": "stream",
          "text": [
            "13/13 [==============================] - 0s 401us/step\n"
          ]
        },
        {
          "data": {
            "text/html": [
              "<div>\n",
              "<style scoped>\n",
              "    .dataframe tbody tr th:only-of-type {\n",
              "        vertical-align: middle;\n",
              "    }\n",
              "\n",
              "    .dataframe tbody tr th {\n",
              "        vertical-align: top;\n",
              "    }\n",
              "\n",
              "    .dataframe thead th {\n",
              "        text-align: right;\n",
              "    }\n",
              "</style>\n",
              "<table border=\"1\" class=\"dataframe\">\n",
              "  <thead>\n",
              "    <tr style=\"text-align: right;\">\n",
              "      <th></th>\n",
              "      <th>Predicted</th>\n",
              "    </tr>\n",
              "  </thead>\n",
              "  <tbody>\n",
              "    <tr>\n",
              "      <th>0</th>\n",
              "      <td>1</td>\n",
              "    </tr>\n",
              "    <tr>\n",
              "      <th>1</th>\n",
              "      <td>0</td>\n",
              "    </tr>\n",
              "    <tr>\n",
              "      <th>2</th>\n",
              "      <td>1</td>\n",
              "    </tr>\n",
              "    <tr>\n",
              "      <th>3</th>\n",
              "      <td>1</td>\n",
              "    </tr>\n",
              "    <tr>\n",
              "      <th>4</th>\n",
              "      <td>1</td>\n",
              "    </tr>\n",
              "    <tr>\n",
              "      <th>...</th>\n",
              "      <td>...</td>\n",
              "    </tr>\n",
              "    <tr>\n",
              "      <th>395</th>\n",
              "      <td>1</td>\n",
              "    </tr>\n",
              "    <tr>\n",
              "      <th>396</th>\n",
              "      <td>1</td>\n",
              "    </tr>\n",
              "    <tr>\n",
              "      <th>397</th>\n",
              "      <td>1</td>\n",
              "    </tr>\n",
              "    <tr>\n",
              "      <th>398</th>\n",
              "      <td>0</td>\n",
              "    </tr>\n",
              "    <tr>\n",
              "      <th>399</th>\n",
              "      <td>1</td>\n",
              "    </tr>\n",
              "  </tbody>\n",
              "</table>\n",
              "<p>400 rows × 1 columns</p>\n",
              "</div>"
            ],
            "text/plain": [
              "     Predicted\n",
              "0            1\n",
              "1            0\n",
              "2            1\n",
              "3            1\n",
              "4            1\n",
              "..         ...\n",
              "395          1\n",
              "396          1\n",
              "397          1\n",
              "398          0\n",
              "399          1\n",
              "\n",
              "[400 rows x 1 columns]"
            ]
          },
          "execution_count": 67,
          "metadata": {},
          "output_type": "execute_result"
        }
      ],
      "source": [
        "# Save the predictions to a DataFrame and round the predictions to binary results\n",
        "predictions = nn_imported.predict(X_test).ravel()\n",
        "\n",
        "results = pd.DataFrame(predictions, columns=['Predicted'])\n",
        "results[\"Predicted\"] = results[\"Predicted\"].apply(lambda x: int(round(x)))\n",
        "results\n"
      ]
    },
    {
      "cell_type": "markdown",
      "metadata": {
        "id": "oxxLwycg6q62"
      },
      "source": [
        "### Step 4: Display a classification report with the y test data and predictions"
      ]
    },
    {
      "cell_type": "code",
      "execution_count": 68,
      "metadata": {
        "colab": {
          "base_uri": "https://localhost:8080/"
        },
        "id": "UTxYZibW6q67",
        "outputId": "f341b396-9b4c-478c-dba8-f6d904ba10e3"
      },
      "outputs": [
        {
          "name": "stdout",
          "output_type": "stream",
          "text": [
            "              precision    recall  f1-score   support\n",
            "\n",
            "           0       0.70      0.34      0.45       188\n",
            "           1       0.60      0.87      0.71       212\n",
            "\n",
            "    accuracy                           0.62       400\n",
            "   macro avg       0.65      0.60      0.58       400\n",
            "weighted avg       0.65      0.62      0.59       400\n",
            "\n"
          ]
        }
      ],
      "source": [
        "# Print the classification report with the y test data and predictions\n",
        "\n",
        "predicted_labels = results['Predicted'].values  # Extract the predictions from the DataFrame\n",
        "\n",
        "# Print the classification report using 'y_test' and the predicted labels\n",
        "print(classification_report(y_test, predicted_labels))\n"
      ]
    },
    {
      "cell_type": "markdown",
      "metadata": {
        "id": "8Aaof1tBtcp6"
      },
      "source": [
        "---\n",
        "## Discuss creating a recommendation system for student loans"
      ]
    },
    {
      "cell_type": "markdown",
      "metadata": {
        "id": "_CC8cNpNtcp6"
      },
      "source": [
        "Briefly answer the following questions in the space provided:\n",
        "\n",
        "1. Describe the data that you would need to collect to build a recommendation system to recommend student loan options for students. Explain why this data would be relevant and appropriate.\n",
        "\n",
        "Answer: Data that would be relevant to a student loan recommendation system could vary widely. I would like to information regarding the student's employment status, income level, credit score, repayment history, current debts, field of study and degree completion date, and post-graduation income data. All of this data is directly indicative of the student's potential ability to repay their loan after graduation. \n",
        "\n",
        "2. Based on the data you chose to use in this recommendation system, would your model be using collaborative filtering, content-based filtering, or context-based filtering? Justify why the data you selected would be suitable for your choice of filtering method.\n",
        "\n",
        "Answer: My model would use a content-based filtering, because it can utilize the specific attributes of each individual student to recommend financing that fits their personal profile. \n",
        "\n",
        "3. Describe two real-world challenges that you would take into consideration while building a recommendation system for student loans. Explain why these challenges would be of concern for a student loan recommendation system.\n",
        "\n",
        "Answer: The primary challenge would be data privacy and security. This data is highly sensitive and personal, and would need to be protected as such. This would help with trust of the system and legal compliance.\n",
        "Another challenge would be monitoring the model for any bias - ensuring that it treats all students fairly without discrimination based on data that doesn't directly impact their ability to receive or pay back financing. "
      ]
    },
    {
      "cell_type": "markdown",
      "metadata": {
        "id": "5KqIT8kYtcp6"
      },
      "source": [
        "**1. Describe the data that you would need to collect to build a recommendation system to recommend student loan options for students. Explain why this data would be relevant and appropriate.**\n",
        "\n",
        "\n",
        "**2. Based on the data you chose to use in this recommendation system, would your model be using collaborative filtering, content-based filtering, or context-based filtering? Justify why the data you selected would be suitable for your choice of filtering method.**\n",
        "\n",
        "\n",
        "**3. Describe two real-world challenges that you would take into consideration while building a recommendation system for student loans. Explain why these challenges would be of concern for a student loan recommendation system.**\n",
        "\n"
      ]
    }
  ],
  "metadata": {
    "colab": {
      "provenance": []
    },
    "kernelspec": {
      "display_name": "Python 3 (ipykernel)",
      "language": "python",
      "name": "python3"
    },
    "language_info": {
      "codemirror_mode": {
        "name": "ipython",
        "version": 3
      },
      "file_extension": ".py",
      "mimetype": "text/x-python",
      "name": "python",
      "nbconvert_exporter": "python",
      "pygments_lexer": "ipython3",
      "version": "3.10.13"
    }
  },
  "nbformat": 4,
  "nbformat_minor": 0
}
